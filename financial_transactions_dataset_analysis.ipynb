{
  "nbformat": 4,
  "nbformat_minor": 0,
  "metadata": {
    "colab": {
      "provenance": []
    },
    "kernelspec": {
      "name": "python3",
      "display_name": "Python 3"
    },
    "language_info": {
      "name": "python"
    }
  },
  "cells": [
    {
      "cell_type": "code",
      "execution_count": 16,
      "metadata": {
        "colab": {
          "base_uri": "https://localhost:8080/"
        },
        "id": "VLVDDAv62IX9",
        "outputId": "ad629a3e-da15-49d0-c48a-d5c52f5ce373"
      },
      "outputs": [
        {
          "output_type": "stream",
          "name": "stdout",
          "text": [
            "Requirement already satisfied: kaggle in /usr/local/lib/python3.11/dist-packages (1.6.17)\n",
            "Requirement already satisfied: six>=1.10 in /usr/local/lib/python3.11/dist-packages (from kaggle) (1.17.0)\n",
            "Requirement already satisfied: certifi>=2023.7.22 in /usr/local/lib/python3.11/dist-packages (from kaggle) (2025.1.31)\n",
            "Requirement already satisfied: python-dateutil in /usr/local/lib/python3.11/dist-packages (from kaggle) (2.8.2)\n",
            "Requirement already satisfied: requests in /usr/local/lib/python3.11/dist-packages (from kaggle) (2.32.3)\n",
            "Requirement already satisfied: tqdm in /usr/local/lib/python3.11/dist-packages (from kaggle) (4.67.1)\n",
            "Requirement already satisfied: python-slugify in /usr/local/lib/python3.11/dist-packages (from kaggle) (8.0.4)\n",
            "Requirement already satisfied: urllib3 in /usr/local/lib/python3.11/dist-packages (from kaggle) (2.3.0)\n",
            "Requirement already satisfied: bleach in /usr/local/lib/python3.11/dist-packages (from kaggle) (6.2.0)\n",
            "Requirement already satisfied: webencodings in /usr/local/lib/python3.11/dist-packages (from bleach->kaggle) (0.5.1)\n",
            "Requirement already satisfied: text-unidecode>=1.3 in /usr/local/lib/python3.11/dist-packages (from python-slugify->kaggle) (1.3)\n",
            "Requirement already satisfied: charset-normalizer<4,>=2 in /usr/local/lib/python3.11/dist-packages (from requests->kaggle) (3.4.1)\n",
            "Requirement already satisfied: idna<4,>=2.5 in /usr/local/lib/python3.11/dist-packages (from requests->kaggle) (3.10)\n"
          ]
        }
      ],
      "source": [
        "!pip install kaggle"
      ]
    },
    {
      "cell_type": "code",
      "source": [
        "import os\n",
        "\n",
        "os.environ['KAGGLE_USERNAME'] = 'your_kaggle_username'\n",
        "os.environ['KAGGLE_KEY'] = 'your_kaggle_api_key'\n",
        "\n",
        "from kaggle.api.kaggle_api_extended import KaggleApi\n",
        "\n",
        "api = KaggleApi()\n",
        "api.authenticate()\n",
        "\n",
        "print(\"Kaggle API authentication successful.\")"
      ],
      "metadata": {
        "id": "AV9b6qVY2WXT",
        "colab": {
          "base_uri": "https://localhost:8080/"
        },
        "outputId": "97c0b4a9-6c09-416b-dfa8-b998283753f6"
      },
      "execution_count": 17,
      "outputs": [
        {
          "output_type": "stream",
          "name": "stdout",
          "text": [
            "Kaggle API authentication successful.\n"
          ]
        }
      ]
    },
    {
      "cell_type": "code",
      "source": [
        "!ls"
      ],
      "metadata": {
        "colab": {
          "base_uri": "https://localhost:8080/"
        },
        "id": "RPXO23h_2gE1",
        "outputId": "7d11fabb-54a7-4618-83da-6b85932b9014"
      },
      "execution_count": 18,
      "outputs": [
        {
          "output_type": "stream",
          "name": "stdout",
          "text": [
            "mcc_codes.json\t\t\t      sample_data\t       transactions_data.csv\n",
            "processed_transactions_2017_2019.csv  train_fraud_labels.json\n"
          ]
        }
      ]
    },
    {
      "cell_type": "code",
      "source": [
        "!mkdir /root/.kaggle\n",
        "!mv kaggle.json /root/.kaggle/\n",
        "!chmod 600 /root/.kaggle/kaggle.json"
      ],
      "metadata": {
        "id": "pAjQ2ZO32jcp",
        "colab": {
          "base_uri": "https://localhost:8080/"
        },
        "outputId": "43c0c46d-7c97-4855-d8ee-3cc4c08d03c5"
      },
      "execution_count": 19,
      "outputs": [
        {
          "output_type": "stream",
          "name": "stdout",
          "text": [
            "mkdir: cannot create directory ‘/root/.kaggle’: File exists\n",
            "mv: cannot stat 'kaggle.json': No such file or directory\n",
            "chmod: cannot access '/root/.kaggle/kaggle.json': No such file or directory\n"
          ]
        }
      ]
    },
    {
      "cell_type": "code",
      "source": [
        "!ls /root/.kaggle/"
      ],
      "metadata": {
        "id": "bSy1ktx52lJh"
      },
      "execution_count": 20,
      "outputs": []
    },
    {
      "cell_type": "code",
      "source": [
        "from kaggle.api.kaggle_api_extended import KaggleApi\n",
        "api = KaggleApi()\n",
        "api.authenticate()"
      ],
      "metadata": {
        "id": "Q1ynzfpb2oCk"
      },
      "execution_count": 21,
      "outputs": []
    },
    {
      "cell_type": "code",
      "source": [
        "api.dataset_download_file(\"computingvictor/transactions-fraud-datasets\", \"transactions_data.csv\")\n",
        "api.dataset_download_file(\"computingvictor/transactions-fraud-datasets\", \"mcc_codes.json\")\n",
        "api.dataset_download_file(\"computingvictor/transactions-fraud-datasets\", \"train_fraud_labels.json\")"
      ],
      "metadata": {
        "colab": {
          "base_uri": "https://localhost:8080/"
        },
        "id": "xkOiB4fx2rVa",
        "outputId": "27f0c1ec-ea21-437a-919e-754fc5da22ec"
      },
      "execution_count": 22,
      "outputs": [
        {
          "output_type": "stream",
          "name": "stdout",
          "text": [
            "Dataset URL: https://www.kaggle.com/datasets/computingvictor/transactions-fraud-datasets\n",
            "Dataset URL: https://www.kaggle.com/datasets/computingvictor/transactions-fraud-datasets\n",
            "Dataset URL: https://www.kaggle.com/datasets/computingvictor/transactions-fraud-datasets\n"
          ]
        },
        {
          "output_type": "execute_result",
          "data": {
            "text/plain": [
              "False"
            ]
          },
          "metadata": {},
          "execution_count": 22
        }
      ]
    },
    {
      "cell_type": "code",
      "source": [
        "transactions_file = \"transactions_data.csv\"\n",
        "mcc_codes_file = \"mcc_codes.json\"\n",
        "fraud_labels_file = \"train_fraud_labels.json\"\n",
        "processed_output_file = \"processed_transactions_2017_2019.csv\""
      ],
      "metadata": {
        "id": "pOEYCa2r27e7"
      },
      "execution_count": 23,
      "outputs": []
    },
    {
      "cell_type": "code",
      "source": [
        "!ls"
      ],
      "metadata": {
        "colab": {
          "base_uri": "https://localhost:8080/"
        },
        "id": "uB_VNUIK28tP",
        "outputId": "401126c0-c468-414f-d9ef-2dcd2d666c05"
      },
      "execution_count": 24,
      "outputs": [
        {
          "output_type": "stream",
          "name": "stdout",
          "text": [
            "mcc_codes.json\t\t\t      sample_data\t       transactions_data.csv\n",
            "processed_transactions_2017_2019.csv  train_fraud_labels.json\n"
          ]
        }
      ]
    },
    {
      "cell_type": "code",
      "source": [
        "import pandas as pd\n",
        "import json"
      ],
      "metadata": {
        "id": "ZQpuy0gj2_qH"
      },
      "execution_count": 25,
      "outputs": []
    },
    {
      "cell_type": "code",
      "source": [
        "with open(mcc_codes_file, \"r\") as f:\n",
        "    mcc_codes = json.load(f)\n",
        "\n",
        "with open(fraud_labels_file, \"r\") as f:\n",
        "    fraud_labels = json.load(f)['target']"
      ],
      "metadata": {
        "id": "V2Ucgc5x3DuU"
      },
      "execution_count": 26,
      "outputs": []
    },
    {
      "cell_type": "code",
      "source": [
        "# Define date range for filtering\n",
        "start_date = '2017-11-01'\n",
        "end_date = '2019-11-01'"
      ],
      "metadata": {
        "id": "U6vmfnND3LW7"
      },
      "execution_count": 27,
      "outputs": []
    },
    {
      "cell_type": "code",
      "source": [
        "# Read transactions incrementally\n",
        "chunksize = 10**6  # Adjust based on system memory\n",
        "processed_chunks = []\n",
        "\n",
        "for chunk in pd.read_csv(transactions_file, parse_dates=['date'], chunksize=chunksize):\n",
        "    # Filter rows based on the date range\n",
        "    filtered_chunk = chunk.loc[(chunk['date'] >= start_date) & (chunk['date'] <= end_date)].copy()\n",
        "\n",
        "    # Add MCC descriptions\n",
        "    filtered_chunk.loc[:, 'mcc_description'] = filtered_chunk['mcc'].astype(str).map(mcc_codes)\n",
        "\n",
        "    # Add fraud labels\n",
        "    filtered_chunk.loc[:, 'fraud_label'] = filtered_chunk['id'].astype(str).map(fraud_labels)\n",
        "\n",
        "    # Append processed chunk\n",
        "    processed_chunks.append(filtered_chunk)"
      ],
      "metadata": {
        "id": "TAJqKvHa3PNO",
        "colab": {
          "base_uri": "https://localhost:8080/",
          "height": 356
        },
        "outputId": "9978f010-34ad-46ef-9f60-ca3ad801b6a1"
      },
      "execution_count": 28,
      "outputs": [
        {
          "output_type": "error",
          "ename": "KeyboardInterrupt",
          "evalue": "",
          "traceback": [
            "\u001b[0;31m---------------------------------------------------------------------------\u001b[0m",
            "\u001b[0;31mKeyboardInterrupt\u001b[0m                         Traceback (most recent call last)",
            "\u001b[0;32m<ipython-input-28-d42ca4283a33>\u001b[0m in \u001b[0;36m<cell line: 0>\u001b[0;34m()\u001b[0m\n\u001b[1;32m     11\u001b[0m \u001b[0;34m\u001b[0m\u001b[0m\n\u001b[1;32m     12\u001b[0m     \u001b[0;31m# Add fraud labels\u001b[0m\u001b[0;34m\u001b[0m\u001b[0;34m\u001b[0m\u001b[0m\n\u001b[0;32m---> 13\u001b[0;31m     \u001b[0mfiltered_chunk\u001b[0m\u001b[0;34m.\u001b[0m\u001b[0mloc\u001b[0m\u001b[0;34m[\u001b[0m\u001b[0;34m:\u001b[0m\u001b[0;34m,\u001b[0m \u001b[0;34m'fraud_label'\u001b[0m\u001b[0;34m]\u001b[0m \u001b[0;34m=\u001b[0m \u001b[0mfiltered_chunk\u001b[0m\u001b[0;34m[\u001b[0m\u001b[0;34m'id'\u001b[0m\u001b[0;34m]\u001b[0m\u001b[0;34m.\u001b[0m\u001b[0mastype\u001b[0m\u001b[0;34m(\u001b[0m\u001b[0mstr\u001b[0m\u001b[0;34m)\u001b[0m\u001b[0;34m.\u001b[0m\u001b[0mmap\u001b[0m\u001b[0;34m(\u001b[0m\u001b[0mfraud_labels\u001b[0m\u001b[0;34m)\u001b[0m\u001b[0;34m\u001b[0m\u001b[0;34m\u001b[0m\u001b[0m\n\u001b[0m\u001b[1;32m     14\u001b[0m \u001b[0;34m\u001b[0m\u001b[0m\n\u001b[1;32m     15\u001b[0m     \u001b[0;31m# Append processed chunk\u001b[0m\u001b[0;34m\u001b[0m\u001b[0;34m\u001b[0m\u001b[0m\n",
            "\u001b[0;32m/usr/local/lib/python3.11/dist-packages/pandas/core/series.py\u001b[0m in \u001b[0;36mmap\u001b[0;34m(self, arg, na_action)\u001b[0m\n\u001b[1;32m   4698\u001b[0m         \u001b[0mdtype\u001b[0m\u001b[0;34m:\u001b[0m \u001b[0mobject\u001b[0m\u001b[0;34m\u001b[0m\u001b[0;34m\u001b[0m\u001b[0m\n\u001b[1;32m   4699\u001b[0m         \"\"\"\n\u001b[0;32m-> 4700\u001b[0;31m         \u001b[0mnew_values\u001b[0m \u001b[0;34m=\u001b[0m \u001b[0mself\u001b[0m\u001b[0;34m.\u001b[0m\u001b[0m_map_values\u001b[0m\u001b[0;34m(\u001b[0m\u001b[0marg\u001b[0m\u001b[0;34m,\u001b[0m \u001b[0mna_action\u001b[0m\u001b[0;34m=\u001b[0m\u001b[0mna_action\u001b[0m\u001b[0;34m)\u001b[0m\u001b[0;34m\u001b[0m\u001b[0;34m\u001b[0m\u001b[0m\n\u001b[0m\u001b[1;32m   4701\u001b[0m         return self._constructor(new_values, index=self.index, copy=False).__finalize__(\n\u001b[1;32m   4702\u001b[0m             \u001b[0mself\u001b[0m\u001b[0;34m,\u001b[0m \u001b[0mmethod\u001b[0m\u001b[0;34m=\u001b[0m\u001b[0;34m\"map\"\u001b[0m\u001b[0;34m\u001b[0m\u001b[0;34m\u001b[0m\u001b[0m\n",
            "\u001b[0;32m/usr/local/lib/python3.11/dist-packages/pandas/core/base.py\u001b[0m in \u001b[0;36m_map_values\u001b[0;34m(self, mapper, na_action, convert)\u001b[0m\n\u001b[1;32m    919\u001b[0m             \u001b[0;32mreturn\u001b[0m \u001b[0marr\u001b[0m\u001b[0;34m.\u001b[0m\u001b[0mmap\u001b[0m\u001b[0;34m(\u001b[0m\u001b[0mmapper\u001b[0m\u001b[0;34m,\u001b[0m \u001b[0mna_action\u001b[0m\u001b[0;34m=\u001b[0m\u001b[0mna_action\u001b[0m\u001b[0;34m)\u001b[0m\u001b[0;34m\u001b[0m\u001b[0;34m\u001b[0m\u001b[0m\n\u001b[1;32m    920\u001b[0m \u001b[0;34m\u001b[0m\u001b[0m\n\u001b[0;32m--> 921\u001b[0;31m         \u001b[0;32mreturn\u001b[0m \u001b[0malgorithms\u001b[0m\u001b[0;34m.\u001b[0m\u001b[0mmap_array\u001b[0m\u001b[0;34m(\u001b[0m\u001b[0marr\u001b[0m\u001b[0;34m,\u001b[0m \u001b[0mmapper\u001b[0m\u001b[0;34m,\u001b[0m \u001b[0mna_action\u001b[0m\u001b[0;34m=\u001b[0m\u001b[0mna_action\u001b[0m\u001b[0;34m,\u001b[0m \u001b[0mconvert\u001b[0m\u001b[0;34m=\u001b[0m\u001b[0mconvert\u001b[0m\u001b[0;34m)\u001b[0m\u001b[0;34m\u001b[0m\u001b[0;34m\u001b[0m\u001b[0m\n\u001b[0m\u001b[1;32m    922\u001b[0m \u001b[0;34m\u001b[0m\u001b[0m\n\u001b[1;32m    923\u001b[0m     \u001b[0;34m@\u001b[0m\u001b[0mfinal\u001b[0m\u001b[0;34m\u001b[0m\u001b[0;34m\u001b[0m\u001b[0m\n",
            "\u001b[0;32m/usr/local/lib/python3.11/dist-packages/pandas/core/algorithms.py\u001b[0m in \u001b[0;36mmap_array\u001b[0;34m(arr, mapper, na_action, convert)\u001b[0m\n\u001b[1;32m   1730\u001b[0m         \u001b[0;31m# Since values were input this means we came from either\u001b[0m\u001b[0;34m\u001b[0m\u001b[0;34m\u001b[0m\u001b[0m\n\u001b[1;32m   1731\u001b[0m         \u001b[0;31m# a dict or a series and mapper should be an index\u001b[0m\u001b[0;34m\u001b[0m\u001b[0;34m\u001b[0m\u001b[0m\n\u001b[0;32m-> 1732\u001b[0;31m         \u001b[0mindexer\u001b[0m \u001b[0;34m=\u001b[0m \u001b[0mmapper\u001b[0m\u001b[0;34m.\u001b[0m\u001b[0mindex\u001b[0m\u001b[0;34m.\u001b[0m\u001b[0mget_indexer\u001b[0m\u001b[0;34m(\u001b[0m\u001b[0marr\u001b[0m\u001b[0;34m)\u001b[0m\u001b[0;34m\u001b[0m\u001b[0;34m\u001b[0m\u001b[0m\n\u001b[0m\u001b[1;32m   1733\u001b[0m         \u001b[0mnew_values\u001b[0m \u001b[0;34m=\u001b[0m \u001b[0mtake_nd\u001b[0m\u001b[0;34m(\u001b[0m\u001b[0mmapper\u001b[0m\u001b[0;34m.\u001b[0m\u001b[0m_values\u001b[0m\u001b[0;34m,\u001b[0m \u001b[0mindexer\u001b[0m\u001b[0;34m)\u001b[0m\u001b[0;34m\u001b[0m\u001b[0;34m\u001b[0m\u001b[0m\n\u001b[1;32m   1734\u001b[0m \u001b[0;34m\u001b[0m\u001b[0m\n",
            "\u001b[0;32m/usr/local/lib/python3.11/dist-packages/pandas/core/indexes/base.py\u001b[0m in \u001b[0;36mget_indexer\u001b[0;34m(self, target, method, limit, tolerance)\u001b[0m\n\u001b[1;32m   3885\u001b[0m             \u001b[0;32mraise\u001b[0m \u001b[0mInvalidIndexError\u001b[0m\u001b[0;34m(\u001b[0m\u001b[0mself\u001b[0m\u001b[0;34m.\u001b[0m\u001b[0m_requires_unique_msg\u001b[0m\u001b[0;34m)\u001b[0m\u001b[0;34m\u001b[0m\u001b[0;34m\u001b[0m\u001b[0m\n\u001b[1;32m   3886\u001b[0m \u001b[0;34m\u001b[0m\u001b[0m\n\u001b[0;32m-> 3887\u001b[0;31m         \u001b[0;32mif\u001b[0m \u001b[0mlen\u001b[0m\u001b[0;34m(\u001b[0m\u001b[0mtarget\u001b[0m\u001b[0;34m)\u001b[0m \u001b[0;34m==\u001b[0m \u001b[0;36m0\u001b[0m\u001b[0;34m:\u001b[0m\u001b[0;34m\u001b[0m\u001b[0;34m\u001b[0m\u001b[0m\n\u001b[0m\u001b[1;32m   3888\u001b[0m             \u001b[0;32mreturn\u001b[0m \u001b[0mnp\u001b[0m\u001b[0;34m.\u001b[0m\u001b[0marray\u001b[0m\u001b[0;34m(\u001b[0m\u001b[0;34m[\u001b[0m\u001b[0;34m]\u001b[0m\u001b[0;34m,\u001b[0m \u001b[0mdtype\u001b[0m\u001b[0;34m=\u001b[0m\u001b[0mnp\u001b[0m\u001b[0;34m.\u001b[0m\u001b[0mintp\u001b[0m\u001b[0;34m)\u001b[0m\u001b[0;34m\u001b[0m\u001b[0;34m\u001b[0m\u001b[0m\n\u001b[1;32m   3889\u001b[0m \u001b[0;34m\u001b[0m\u001b[0m\n",
            "\u001b[0;32m/usr/local/lib/python3.11/dist-packages/pandas/core/indexes/base.py\u001b[0m in \u001b[0;36m__len__\u001b[0;34m(self)\u001b[0m\n\u001b[1;32m    907\u001b[0m \u001b[0;34m\u001b[0m\u001b[0m\n\u001b[1;32m    908\u001b[0m     \u001b[0;31m# ndarray compat\u001b[0m\u001b[0;34m\u001b[0m\u001b[0;34m\u001b[0m\u001b[0m\n\u001b[0;32m--> 909\u001b[0;31m     \u001b[0;32mdef\u001b[0m \u001b[0m__len__\u001b[0m\u001b[0;34m(\u001b[0m\u001b[0mself\u001b[0m\u001b[0;34m)\u001b[0m \u001b[0;34m->\u001b[0m \u001b[0mint\u001b[0m\u001b[0;34m:\u001b[0m\u001b[0;34m\u001b[0m\u001b[0;34m\u001b[0m\u001b[0m\n\u001b[0m\u001b[1;32m    910\u001b[0m         \"\"\"\n\u001b[1;32m    911\u001b[0m         \u001b[0mReturn\u001b[0m \u001b[0mthe\u001b[0m \u001b[0mlength\u001b[0m \u001b[0mof\u001b[0m \u001b[0mthe\u001b[0m \u001b[0mIndex\u001b[0m\u001b[0;34m.\u001b[0m\u001b[0;34m\u001b[0m\u001b[0;34m\u001b[0m\u001b[0m\n",
            "\u001b[0;31mKeyboardInterrupt\u001b[0m: "
          ]
        }
      ]
    },
    {
      "cell_type": "code",
      "source": [
        "# Combine all processed chunks into a single DataFrame\n",
        "final_data = pd.concat(processed_chunks, ignore_index=True)\n",
        "final_data.head()"
      ],
      "metadata": {
        "id": "-IPSoKgz4icM"
      },
      "execution_count": null,
      "outputs": []
    },
    {
      "cell_type": "code",
      "source": [
        "# Save the processed data\n",
        "final_data.to_csv(processed_output_file, index=False)\n",
        "print(f\"Processed data saved to '{processed_output_file}'\")"
      ],
      "metadata": {
        "id": "tGXTlQm34mlN"
      },
      "execution_count": null,
      "outputs": []
    },
    {
      "cell_type": "code",
      "source": [
        "# Cleaning data\n",
        "cleaned_output_path = \"cleaned_transactions_2017_2019.csv\"\n",
        "processed_data = pd.read_csv(processed_output_file, parse_dates=['date'])\n",
        "processed_data.head(3)"
      ],
      "metadata": {
        "id": "Isyp31cq47lM"
      },
      "execution_count": null,
      "outputs": []
    },
    {
      "cell_type": "code",
      "source": [
        "# 1. Drop unnecessary columns\n",
        "columns_to_drop = ['errors']  # Add other unused columns here\n",
        "processed_data = processed_data.drop(columns=columns_to_drop)\n",
        "processed_data.head(3)"
      ],
      "metadata": {
        "id": "AEz4hzHZ5FAR"
      },
      "execution_count": null,
      "outputs": []
    },
    {
      "cell_type": "code",
      "source": [
        "# 2. Handle missing values\n",
        "processed_data['merchant_state'] = processed_data['merchant_state'].fillna('Unknown')\n",
        "processed_data['mcc_description'] = processed_data['mcc_description'].fillna('Unknown MCC')"
      ],
      "metadata": {
        "id": "9ogyiKxv5Kmp"
      },
      "execution_count": null,
      "outputs": []
    },
    {
      "cell_type": "code",
      "source": [
        "# 3. Normalize the `amount` column\n",
        "processed_data['amount'] = processed_data['amount'].str.replace(r'[\\$,]', '', regex=True).astype(float)\n",
        "processed_data['amount'].head(3)"
      ],
      "metadata": {
        "id": "LQjf_Uy55Nu3"
      },
      "execution_count": null,
      "outputs": []
    },
    {
      "cell_type": "code",
      "source": [
        "# 4. Convert fraud labels to binary (handle missing or invalid values)\n",
        "processed_data['fraud_label'] = processed_data['fraud_label'].fillna('no')  # Default to 'no' for NaN\n",
        "processed_data['fraud_label'] = processed_data['fraud_label'].str.strip().str.lower().map({'yes': 1, 'no': 0})\n",
        "processed_data['fraud_label'].head(3)"
      ],
      "metadata": {
        "id": "wyxhdp2G5Pgs"
      },
      "execution_count": null,
      "outputs": []
    },
    {
      "cell_type": "code",
      "source": [
        "# 6. Remove duplicates\n",
        "processed_data = processed_data.drop_duplicates()\n",
        "processed_data.head(3)"
      ],
      "metadata": {
        "id": "sDbQymhX5UCX"
      },
      "execution_count": null,
      "outputs": []
    },
    {
      "cell_type": "code",
      "source": [
        "# 7. Clean and validate zip codes\n",
        "processed_data['zip'] = processed_data['zip'].fillna(0).astype(int)  # Replace NaN with 0 and convert to int\n",
        "processed_data['zip'].head(3)"
      ],
      "metadata": {
        "id": "Rrp8QDio5aJH"
      },
      "execution_count": null,
      "outputs": []
    },
    {
      "cell_type": "code",
      "source": [
        "# 8. Ensure consistent MCC descriptions\n",
        "processed_data['mcc_description'] = processed_data['mcc_description'].str.strip()\n",
        "processed_data['mcc_description'].head(3)"
      ],
      "metadata": {
        "id": "-aPyRg325dFy"
      },
      "execution_count": null,
      "outputs": []
    },
    {
      "cell_type": "code",
      "source": [
        "# Save the cleaned dataset\n",
        "processed_data.to_csv(cleaned_output_path, index=False)\n",
        "print(f\"Cleaned data saved to {cleaned_output_path}\")\n",
        "processed_data.head(3)"
      ],
      "metadata": {
        "id": "3LWtgHgD5f4b"
      },
      "execution_count": null,
      "outputs": []
    },
    {
      "cell_type": "code",
      "source": [
        "#Data Analysis\n",
        "df = processed_data\n",
        "df.head(3)"
      ],
      "metadata": {
        "id": "KoR5WCRk5-FC"
      },
      "execution_count": null,
      "outputs": []
    },
    {
      "cell_type": "code",
      "source": [
        "#Personal Spending calculations based on client id\n",
        "\n",
        "psc = df[[\"client_id\", \"amount\", \"mcc_description\"]]\n",
        "psc.head(3)"
      ],
      "metadata": {
        "id": "5Obci6oT6U9T"
      },
      "execution_count": null,
      "outputs": []
    },
    {
      "cell_type": "code",
      "source": [
        "#Grouping all transactions by client id\n",
        "\n",
        "client_amount = psc.groupby(\"client_id\")\n",
        "client_amount.get_group(0)"
      ],
      "metadata": {
        "id": "gAf6xMVz6fWy"
      },
      "execution_count": null,
      "outputs": []
    },
    {
      "cell_type": "code",
      "source": [
        "#Computing highest spending category for each client\n",
        "\n",
        "client_max_spending = client_amount.max()\n",
        "client_max_spending"
      ],
      "metadata": {
        "id": "HZmdQJL66kBa"
      },
      "execution_count": null,
      "outputs": []
    },
    {
      "cell_type": "code",
      "source": [
        "#categorizing highest spending by mcc codes\n",
        "client_max_plot = client_max_spending.groupby(\"mcc_description\").count()\n",
        "client_max_plot"
      ],
      "metadata": {
        "id": "tyXbnwBn6qep"
      },
      "execution_count": null,
      "outputs": []
    },
    {
      "cell_type": "code",
      "source": [
        "#Plot to visualize the count of client spending max amount on a mcc\n",
        "client_max_plot.plot(kind=\"bar\", figsize=(5,5), title='Highest spending categories for all clients', ylabel='Count')"
      ],
      "metadata": {
        "id": "lAbjWvkJ6uND"
      },
      "execution_count": null,
      "outputs": []
    },
    {
      "cell_type": "code",
      "source": [
        "#Total amount spent by all client in 2 years on each mcc category\n",
        "\n",
        "top_mcc = df[[\"mcc_description\", \"amount\"]]\n",
        "top_mcc.head(3)"
      ],
      "metadata": {
        "id": "63sQr-dD66-E"
      },
      "execution_count": null,
      "outputs": []
    },
    {
      "cell_type": "code",
      "source": [
        "#Calculating top 10 mcc categories with most money spent\n",
        "\n",
        "top_mcc_amt = top_mcc.groupby(\"mcc_description\").sum()\n",
        "top_mcc_plot = top_mcc_amt.sort_values(\"amount\", ascending=False)\n",
        "top_mcc_plot.head(10)"
      ],
      "metadata": {
        "id": "3ABNjvAT6-dJ"
      },
      "execution_count": null,
      "outputs": []
    },
    {
      "cell_type": "code",
      "source": [
        "#Plot for top 10 mcc codes for 2 years of transactions\n",
        "\n",
        "top_mcc_plot.head(10).plot(kind=\"barh\", figsize=(5,5), title=\"Top 10 MCC vs Total amount spent\", xlabel=\"Total amount spent\")"
      ],
      "metadata": {
        "id": "rrW4icmi7CBL"
      },
      "execution_count": null,
      "outputs": []
    },
    {
      "cell_type": "code",
      "source": [
        "#Fraud analysis for each transaction\n",
        "\n",
        "fraud_ck = df[[\"use_chip\",\"fraud_label\"]]\n",
        "fraud_ck.head(3)"
      ],
      "metadata": {
        "id": "1zaygVrM7Fqk"
      },
      "execution_count": null,
      "outputs": []
    },
    {
      "cell_type": "code",
      "source": [
        "#Counting total number of transactions for each type\n",
        "\n",
        "transaction_type = fraud_ck.groupby(\"use_chip\").count()\n",
        "transaction_type"
      ],
      "metadata": {
        "id": "w2FEU-xy7KGm"
      },
      "execution_count": null,
      "outputs": []
    },
    {
      "cell_type": "code",
      "source": [
        "#Categorizing the fraud alerts based on the type of transaction (chip, online, swipe)\n",
        "\n",
        "fr_aler = fraud_ck[fraud_ck.fraud_label ==1]\n",
        "fr_count = fr_aler.groupby(\"use_chip\").count()\n",
        "fr_count"
      ],
      "metadata": {
        "id": "1znlsIiy7P60"
      },
      "execution_count": null,
      "outputs": []
    },
    {
      "cell_type": "code",
      "source": [
        "#Calculating percentage fraud in each category\n",
        "perc_fr = (fr_count.fraud_label/transaction_type.fraud_label)*100\n",
        "perc_fr"
      ],
      "metadata": {
        "id": "IrJK2-yL7Tmu"
      },
      "execution_count": null,
      "outputs": []
    },
    {
      "cell_type": "code",
      "source": [
        "#Plot to identify the percentage of fraud\n",
        "perc_fr.plot(kind='pie', autopct='%1.0f%%', figsize=(5,5), title='Fraud occurance by categories')"
      ],
      "metadata": {
        "id": "vN915fH37YsR"
      },
      "execution_count": null,
      "outputs": []
    },
    {
      "cell_type": "code",
      "source": [
        "#Data Export"
      ],
      "metadata": {
        "id": "ePnHdd6U7kkY"
      },
      "execution_count": null,
      "outputs": []
    }
  ]
}